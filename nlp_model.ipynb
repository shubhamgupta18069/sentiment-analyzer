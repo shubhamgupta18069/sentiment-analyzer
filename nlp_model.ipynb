{
 "cells": [
  {
   "cell_type": "code",
   "execution_count": null,
   "metadata": {
    "vscode": {
     "languageId": "plaintext"
    }
   },
   "outputs": [],
   "source": [
    "from sagemaker.huggingface import HuggingFaceModel\n",
    "import sagemaker\n",
    "import boto3\n",
    "\n",
    "# Use your manually created bucket\n",
    "bucket = 'sagemaker-projectnlp'\n",
    "\n",
    "# Start SageMaker session with custom bucket\n",
    "sagemaker_session = sagemaker.Session(default_bucket=bucket)\n",
    "\n",
    "# Get the execution role\n",
    "role = sagemaker.get_execution_role()\n",
    "\n",
    "# Set HuggingFace model config\n",
    "hub = {\n",
    "    'HF_MODEL_ID': 'distilbert-base-uncased-finetuned-sst-2-english',\n",
    "    'HF_TASK': 'text-classification'\n",
    "}\n",
    "\n",
    "# Create the HuggingFace model\n",
    "huggingface_model = HuggingFaceModel(\n",
    "    transformers_version='4.26',\n",
    "    pytorch_version='1.13',\n",
    "    py_version='py39',\n",
    "    env=hub,\n",
    "    role=role,\n",
    "    sagemaker_session=sagemaker_session\n",
    ")\n",
    "\n",
    "# Deploy the model to a real-time endpoint\n",
    "predictor = huggingface_model.deploy(\n",
    "    initial_instance_count=1,\n",
    "    instance_type='ml.t2.medium',\n",
    "    endpoint_name='sentiment-endpoint'\n",
    ")\n",
    "\n",
    "print(\"✅ Deployed endpoint:\", predictor.endpoint_name)\n"
   ]
  }
 ],
 "metadata": {
  "language_info": {
   "name": "python"
  }
 },
 "nbformat": 4,
 "nbformat_minor": 2
}
